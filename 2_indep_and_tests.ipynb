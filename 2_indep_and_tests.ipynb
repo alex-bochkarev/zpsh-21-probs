{
 "cells": [
  {
   "cell_type": "markdown",
   "metadata": {
    "slideshow": {
     "slide_type": "slide"
    }
   },
   "source": [
    "*ЗПШ-2021, сезон 29¾ :: \"Как устроены случайности?\"*\n",
    "*zpsh@bochkarev.io*\n",
    "\n",
    "\n",
    "# Занятие 2: (не)зависимость, тесты и ко.\n",
    "\n",
    "- крокодилы и кролики, revised\n",
    "- зависимые и независимые события\n",
    "- условная вероятность\n",
    "- тест на COVID как случайная величина, характеристики тестов."
   ]
  },
  {
   "cell_type": "code",
   "execution_count": 139,
   "metadata": {
    "slideshow": {
     "slide_type": "skip"
    }
   },
   "outputs": [],
   "source": [
    "import numpy as np"
   ]
  },
  {
   "cell_type": "markdown",
   "metadata": {
    "slideshow": {
     "slide_type": "slide"
    }
   },
   "source": [
    "## Вопросы с прошлого занятия.\n",
    "### Вероятность объединеня событий\n",
    "- Учитывая свойства вероятности, ℙ, как бы могла выглядеть формула\n",
    "  для ℙ(A∪B) в случае, если A∩B≠∅?\n",
    "  \n",
    "  *Но сначала, для разминки...*"
   ]
  },
  {
   "cell_type": "markdown",
   "metadata": {
    "slideshow": {
     "slide_type": "slide"
    }
   },
   "source": [
    "Если ввести обозначение \"дололнения\" множества $A$ вот такое:\n",
    "- $\\bar{A}:=\\Omega\\setminus A$, т.е. включает все такие элементы $x\\in \\Omega$, что $x\\notin A$.\n",
    "\n",
    "Тогда как можно посчитать $\\mathbb{P}(\\bar{A})$, зная $\\mathbb{P}(A)$? Чему равна вероятность, что на кубике выпадет 2,3,4,5, или 6?"
   ]
  },
  {
   "cell_type": "markdown",
   "metadata": {
    "slideshow": {
     "slide_type": "fragment"
    }
   },
   "source": [
    "$1-\\mathbb{P}(A)$.\n",
    "\n",
    "Ну если взять $A$ и $B:=\\bar{A}$, то по определению $A\\cap B=\\varnothing$, а значит $\\mathbb{P}(A)+\\mathbb{P}(B)=\\mathbb{P}(A\\cup B)= \\mathbb{P}(\\Omega)=1$..."
   ]
  },
  {
   "cell_type": "markdown",
   "metadata": {
    "slideshow": {
     "slide_type": "slide"
    }
   },
   "source": [
    "## Вопросы с прошлого занятия.\n",
    "### Вероятность объединеня событий\n",
    "- Учитывая свойства вероятности, ℙ, как бы могла выглядеть формула\n",
    "  для ℙ(A∪B) в случае, если A∩B≠∅?\n",
    "  \n",
    "*Идеи / предложения?*"
   ]
  },
  {
   "cell_type": "markdown",
   "metadata": {
    "slideshow": {
     "slide_type": "slide"
    }
   },
   "source": [
    "Мы знаем: что $\\mathbb{P}(A\\cup B) = \\mathbb{P}(A) + \\mathbb{P}(B)$, если $A\\cap B=\\varnothing$ (нет общих элементов)"
   ]
  },
  {
   "cell_type": "markdown",
   "metadata": {
    "slideshow": {
     "slide_type": "fragment"
    }
   },
   "source": [
    "Заметим, что:\n",
    "- $\\mathbb{P}(A)=\\mathbb{P}(A\\setminus B) + \\mathbb{P}(A\\cap B)$,\n",
    "- $\\mathbb{P}(B)=\\mathbb{P}(B\\setminus A) + \\mathbb{P}(A\\cap B)$.\n",
    "\n",
    "(правда же?)"
   ]
  },
  {
   "cell_type": "markdown",
   "metadata": {
    "slideshow": {
     "slide_type": "fragment"
    }
   },
   "source": [
    "Сложим этих двоих теперь:\n",
    "- $\\mathbb{P}(A)+\\mathbb{P}(B) = \\Big[\\mathbb{P}(A\\setminus B) + \\mathbb{P}(A\\cap B)+\\mathbb{P}(B\\setminus A) \\Big]+ \\mathbb{P}(A\\cap B)$."
   ]
  },
  {
   "cell_type": "markdown",
   "metadata": {
    "slideshow": {
     "slide_type": "fragment"
    }
   },
   "source": [
    "Очевидным образом, $\\mathbb{P}(A\\setminus B) + \\mathbb{P}(A\\cap B)+\\mathbb{P}(B\\setminus A)=\\mathbb{P}(A\\cup B)$"
   ]
  },
  {
   "cell_type": "markdown",
   "metadata": {
    "slideshow": {
     "slide_type": "fragment"
    }
   },
   "source": [
    "... таким образом,\n",
    "$$\\Rightarrow \\mathbb{P}(A\\cup B) = \\mathbb{P}(A)+\\mathbb{P}(B) - \\mathbb{P}(A\\cap B) \\nonumber$$"
   ]
  },
  {
   "cell_type": "markdown",
   "metadata": {
    "slideshow": {
     "slide_type": "slide"
    }
   },
   "source": [
    "$$\\mathbb{P}(A\\cup B) = \\mathbb{P}(A)+\\mathbb{P}(B) - \\mathbb{P}(A\\cap B) \\nonumber$$\n",
    "На самом деле, можно было просто представить себе картинку: \n",
    "![A and B](./images/AnB.png)"
   ]
  },
  {
   "cell_type": "markdown",
   "metadata": {
    "slideshow": {
     "slide_type": "slide"
    }
   },
   "source": [
    "### Вероятность выборки без возврата ака \"крокодилы и кролики\"\n",
    "- В шляпе все еще 10 🐇 и 5 🐊. Предположим, я вытаскиваю пять животных подряд,\n",
    "  но теперь не помещаю обратно (они убегают). Как оценить вероятность вытащить-таки\n",
    "  пять кроликов подряд?\n",
    "  \n",
    "  *Идеи?*"
   ]
  },
  {
   "cell_type": "markdown",
   "metadata": {
    "slideshow": {
     "slide_type": "fragment"
    }
   },
   "source": [
    "- \"Хорошие\" исходы: $10\\cdot 9\\cdot 8\\cdot 7 \\cdot 6=30,240$\n",
    "- Все исходы: $15\\cdot 14 \\cdot 13\\cdot 12 \\cdot 11=360,360$\n",
    "- итого, $30,240/360,360 \\approx 8\\%$"
   ]
  },
  {
   "cell_type": "markdown",
   "metadata": {
    "slideshow": {
     "slide_type": "fragment"
    }
   },
   "source": [
    "**иногда говорят об общих \"комбинаторных\" понятиях**:\n",
    "(обозначая $n! := n (n-1) \\ldots 1$)\n",
    "\n",
    "- кол-во вариантов выбрать $k$ элементов из $n$, **без учета порядка**, $A_n^K=$ *???*\n",
    "- кол-во перестановок из $k$ элементов, $P_k=$ *???*\n",
    "- **с учетом порядка** $C_n^k=$ *???*\n",
    "- и вообще, количество подмножеств множества с $N$ элементами = *???*."
   ]
  },
  {
   "cell_type": "markdown",
   "metadata": {
    "slideshow": {
     "slide_type": "slide"
    }
   },
   "source": [
    "**иногда говорят об общих \"комбинаторных\" понятиях**:\n",
    "(обозначая $n! := n (n-1) \\ldots 1$)\n",
    "\n",
    "- кол-во вариантов выбрать $k$ элементов из $n$, **с учетом порядка**: $A_n^k := n! / (n-k)!$\n",
    "- кол-во перестановок из $k$ элементов -- очевидно, $k!$.\n",
    "- **без учета порядка** $C_n^k := \\frac{n!}{k!(n-k)!}$.\n",
    "- кол-во подмножеств $A$, s.t. $|A|=N$, равно $2^N$. Почему?"
   ]
  },
  {
   "cell_type": "markdown",
   "metadata": {
    "slideshow": {
     "slide_type": "fragment"
    }
   },
   "source": [
    "**Sidenote:** $2^N$, как и $N!$ -- это **быстрый** рост!!"
   ]
  },
  {
   "cell_type": "markdown",
   "metadata": {
    "slideshow": {
     "slide_type": "slide"
    }
   },
   "source": [
    "## Независимые события\n",
    "Вспомним, что мы ввели модель вероятности в виде $(\\Omega, \\mathcal{F}, \\mathbb{P})$ -- \"вероятностное пространство\". Соответственно,\n",
    "- $\\Omega$ -- множество *исходов* (а-ля \"атомарные результаты\").\n",
    "- $\\mathcal{F}$ -- множество *событий* (очевидно, подмножества предыдущего).\n",
    "- $\\mathbb{P}$ -- функция \"вероятности\", которая действует из $\\mathcal{F}$ в $[0,1]$.\n",
    "\n",
    "От всех из них мы требуем соблюдения некоторых более или менее естественных свойств. Но важно, что мы смотрим на события как на *множества*. Исходя из этого, как бы вы определили *зависимые* (или *независимые*) события?"
   ]
  },
  {
   "cell_type": "markdown",
   "metadata": {
    "slideshow": {
     "slide_type": "fragment"
    }
   },
   "source": [
    "являются ли независимым (интуитивно), например:\n",
    "- выпадение \"орла\" при двух последовательных бросаниях монетки?\n",
    "- выпадение ⚀ и ⚅ на разных кубиках?\n",
    "- ... на одном кубике (в одном и том же броске)?\n",
    "- \"выпадение ⚅\" и \"выпадение четного\"?\n",
    "- \"выпадение ⚅\" и \"выпадение нечетного\"?"
   ]
  },
  {
   "cell_type": "markdown",
   "metadata": {
    "slideshow": {
     "slide_type": "slide"
    }
   },
   "source": [
    "Можно, например, определить это так: \"события $A$ и $B$ *независимы* (по определению!), если их вероятности устроены так:\n",
    "$$\\mathbb{P}(A\\cap B)=\\mathbb{P}(A)\\mathbb{P}(B) \\nonumber$$"
   ]
  },
  {
   "cell_type": "markdown",
   "metadata": {
    "slideshow": {
     "slide_type": "fragment"
    }
   },
   "source": [
    "тогда еще раз:\n",
    "- выпадение \"орла\" при двух последовательных бросаниях монетки?\n",
    "- выпадение ⚀ и ⚅ на разных кубиках?\n",
    "- ... на одном кубике (в одном и том же броске)?\n",
    "- \"выпадение ⚅\" и \"выпадение четного\"?\n",
    "- \"выпадение ⚅\" и \"выпадение нечетного\"?"
   ]
  },
  {
   "cell_type": "markdown",
   "metadata": {
    "slideshow": {
     "slide_type": "slide"
    }
   },
   "source": [
    "### Пример про перепроверку.\n",
    "\n",
    "Система на основе машинного обучения определяет размер окатыша с помощью фотографий, с двух независимых камер, с разными моделями.\n",
    "\n",
    "**Цель:** выявить случаи, когда размер не вписался в установленные нормативы. \n",
    "- Первая камера замечает такую ситуацию с вероятностью $0.6$, вторая, поновее -- $0.8$. \n",
    "- Какова вероятность, что система \"заметит\" проблему по итогам двух фотографий? (если она есть)"
   ]
  },
  {
   "cell_type": "markdown",
   "metadata": {
    "slideshow": {
     "slide_type": "fragment"
    }
   },
   "source": [
    "- кажется, вариант $0.5+0.8$ не подходит? :) почему оно такое?.. это же $\\mathbb{P}(A\\cup B)$ вроде..."
   ]
  },
  {
   "cell_type": "markdown",
   "metadata": {
    "slideshow": {
     "slide_type": "fragment"
    }
   },
   "source": [
    "- окей, давайте найдем вероятность, что ни одна камера НЕ заметит? Очевидно, $(1-0.6)(1-0.8)=0.4\\cdot0.2=0.08$. \n",
    "- тогда искомая вероятность будет $1-0.08=0.92$"
   ]
  },
  {
   "cell_type": "markdown",
   "metadata": {
    "slideshow": {
     "slide_type": "fragment"
    }
   },
   "source": [
    "*воу-воу! Да неужели??*"
   ]
  },
  {
   "cell_type": "code",
   "execution_count": 786,
   "metadata": {
    "slideshow": {
     "slide_type": "slide"
    }
   },
   "outputs": [
    {
     "name": "stdout",
     "output_type": "stream",
     "text": [
      "Доля успешного определения (расчетная): 91.8%\n"
     ]
    }
   ],
   "source": [
    "success = 0\n",
    "N = 10000\n",
    "\n",
    "for i in range(N):\n",
    "    # мы ПРЕДПОЛАГАЕМ что перед нами -- дефект!\n",
    "    check_camera_1 = (np.random.uniform() <= 0.6)  # это событие с вероятностью 0.6\n",
    "    check_camera_2 = (np.random.uniform() <= 0.8)  # это -- 0.8\n",
    "    \n",
    "    if check_camera_1 or check_camera_2:\n",
    "        success += 1\n",
    "        \n",
    "print(f\"Доля успешного определения (расчетная): {success*100 / N:.1f}%\")"
   ]
  },
  {
   "cell_type": "markdown",
   "metadata": {
    "slideshow": {
     "slide_type": "slide"
    }
   },
   "source": [
    "## Условная вероятность\n",
    "При этом, иногда хочется думать в терминах \"условностей\". Какова вероятность `чего-то`, *при условии* что `нечто`уже произошло?"
   ]
  },
  {
   "cell_type": "markdown",
   "metadata": {
    "slideshow": {
     "slide_type": "fragment"
    }
   },
   "source": [
    "- рабочий email отправлен не тому клиенту -- у нас скандал. Какова вероятность, что это дело рук стажера Семена?\n",
    "- какова вероятность, что мой алгоритм получит прибыль на бирже, при условии падающего рынка?\n",
    "- какова вероятность, что наш метод определит рак, при условии, что он действительно есть?"
   ]
  },
  {
   "cell_type": "markdown",
   "metadata": {
    "slideshow": {
     "slide_type": "fragment"
    }
   },
   "source": [
    "Как бы вы определили такую штуку численно -- скажем $\\mathbb{P}(A|B)$? (А \"при услови\" B). Для начала, в терминах количества исходов."
   ]
  },
  {
   "cell_type": "markdown",
   "metadata": {
    "slideshow": {
     "slide_type": "fragment"
    }
   },
   "source": [
    "- например, как долю случаев. То есть #`случилось и A, и B` / #`случилось B`."
   ]
  },
  {
   "cell_type": "markdown",
   "metadata": {
    "slideshow": {
     "slide_type": "fragment"
    }
   },
   "source": [
    "если мы хотим именно вероятность (как *точную* величину), можно в той же логике записать:\n",
    "$$\\mathbb{P}(A|B) := \\frac{\\mathbb{P}(A\\cap B)}{\\mathbb{P}(B)}\\nonumber$$"
   ]
  },
  {
   "cell_type": "markdown",
   "metadata": {
    "slideshow": {
     "slide_type": "slide"
    }
   },
   "source": [
    "Кстати, имея выражение:\n",
    "$$\\mathbb{P}(A|B) := \\frac{\\mathbb{P}(A\\cap B)}{\\mathbb{P}(B)}\\nonumber$$\n",
    "\n",
    "можно, наоборот, называть *независимыми* такие события, для которых $\\mathbb{P}(A|B)=\\mathbb{P}(A)$ (что весьма интуитивно понятно, правда?)"
   ]
  },
  {
   "cell_type": "markdown",
   "metadata": {
    "slideshow": {
     "slide_type": "slide"
    }
   },
   "source": [
    "### Quick lifehack: формула полной вероятности.\n",
    "Обратите внимание, что $$\\mathbb{P}(A\\cap B) = \\mathbb{P}(A|B) \\mathbb{P}(B)\\nonumber$$\n",
    "\n",
    "Таким образом, если я \"распилю\" наше $\\Omega := B_1 \\cup \\ldots \\cup B_K$ так что $B_i\\cap B_j=\\varnothing$, то ведь\n",
    "\n",
    "$$\\mathbb{P}(A) = \\mathbb{P}(A\\cap\\Omega) =\\mathbb{P}(A\\cap B_1)+ \\ldots + \\mathbb{P}(A\\cap B_K)=\\mathbb{P}(A|B_1)\\mathbb{P}(B_1) + \\ldots + \\mathbb{P}(A|B_K)\\mathbb{P}(B_K)\\nonumber$$"
   ]
  },
  {
   "cell_type": "markdown",
   "metadata": {
    "slideshow": {
     "slide_type": "fragment"
    }
   },
   "source": [
    "**Например:** иногда бывает более понятно что-то про условные вероятности, чем про абсолютные. В прокате три машины -- первая сломается в течение дня с вероятностью 10%, вторая -- 30%, третья 100%. Машину дадут Вам наугад. Какова вероятность провести вечер на МКАД?..\n",
    "\n",
    "**ProTip:** если вы владелец проката -- подобрать вероятности, чтобы клиенты застревали на дороге менее чем в 50% случаев..."
   ]
  },
  {
   "cell_type": "markdown",
   "metadata": {
    "slideshow": {
     "slide_type": "slide"
    }
   },
   "source": [
    "## Формула Байеса\n",
    "\n",
    "Иногда нам интересно \"вывернуть\" условную вероятность:\n",
    "**Зачем?** Какова вероятность что у меня вирус, если у меня насморк? при этом известно:\n",
    "- доля людей с насморком,\n",
    "- доля людей с вирусом,\n",
    "- и как часто бывает насморк при вирусе...)"
   ]
  },
  {
   "cell_type": "markdown",
   "metadata": {
    "slideshow": {
     "slide_type": "fragment"
    }
   },
   "source": [
    "т.е., A = {у меня вирус}, B = {у меня насморк}, и известны вероятности A, B, и $\\mathbb{P}(B|A)$. *Что делать?*\n",
    "\n",
    "Мы сегодня еще вернемся к этому примеру чуть позже, давайте пока получим основную формулу для ответа:"
   ]
  },
  {
   "cell_type": "markdown",
   "metadata": {
    "slideshow": {
     "slide_type": "slide"
    }
   },
   "source": [
    "Заметим, что $\\mathbb{P}(A\\cap B) = \\mathbb{P}(A|B)\\mathbb{P}(B) = \\mathbb{P}(B|A)\\mathbb{P}(A)$. Значит:\n",
    "\n",
    "$$\\mathbb{P}(A|B) = \\frac{\\mathbb{P}(B|A)\\mathbb{P}(A)}{\\mathbb{P}(B)}\\nonumber$$"
   ]
  },
  {
   "cell_type": "markdown",
   "metadata": {
    "slideshow": {
     "slide_type": "slide"
    }
   },
   "source": [
    "## К вопросу о тестах.\n",
    "Это понятие может возникать, когда мы говорим о каких-либо *тестах*. Давайте поговорим про тест на COVID, конечно*\n",
    "\n",
    "[*] никак не соотносится с реальными данными -- цифры случайные."
   ]
  },
  {
   "cell_type": "code",
   "execution_count": 711,
   "metadata": {
    "slideshow": {
     "slide_type": "skip"
    }
   },
   "outputs": [],
   "source": [
    "## завернем все в красивую обертку, чтобы было удобно обсуджать\n",
    "class Life:\n",
    "    \"\"\"Определяет настоящее состояние.\"\"\"\n",
    "    def __init__(self):\n",
    "        self.COVID_prob = np.random.uniform(0, 0.6)\n",
    "        \n",
    "    def happen(self):\n",
    "        outcome = np.random.uniform()\n",
    "        if outcome <= self.COVID_prob:\n",
    "            return \"💀\"\n",
    "        else:\n",
    "            return \"😊\"\n",
    "        \n",
    "class COVIDtest:\n",
    "    \"\"\"Описывает тест.\"\"\"\n",
    "    def __init__(self):\n",
    "        self.recall = np.random.uniform(0.6,1.0)\n",
    "        self.specificity = np.random.uniform(0,0.3)\n",
    "        \n",
    "    def test(self, life_state):\n",
    "        \"\"\"Выдает результат теста (в зависимости от ненаблюдаемого состояния).\"\"\"\n",
    "        outcome = np.random.uniform()\n",
    "        if life_state == \"💀\":\n",
    "            if outcome <= self.recall:\n",
    "                return \"😷 (болен)\"\n",
    "            else:\n",
    "                return \"👍 (здоров)\"\n",
    "        else:\n",
    "            if outcome <= self.specificity:\n",
    "                return \"👍 (здоров)\"\n",
    "            else:\n",
    "                return \"😷 (болен)\"\n",
    "            \n",
    "def make_table(TP, FP, TN, FN):\n",
    "    N = TP+FP+TN+FN\n",
    "    print(f\"{'Правда / Тест ->':<15} | {'😷 (+ болен)':^15} | {'👍 (- здоров)':^15} | {'∑':^15} | %\")\n",
    "    print(f\"{'=':=<80}\")\n",
    "    print(f\"{'💀 ':<15}   {TP:^15,}   {FN:^15,}   {TP+FN:^15,}   {(TP+FN) / N:.2f}\")\n",
    "    print(f\"{'😊 ':<15}   {FP:^15,}   {TN:^15,}   {FP+TN:^15,}   {(FP+TN) / N:.2f}\")\n",
    "    print(f\"{'-':-<80}\")\n",
    "    print(f\"{'∑  ':<15}   {TP+FP:^15,}   {FN+TN:^15,}   {N:^15,}    1.0\")\n",
    "    print(f\"{'%  ':<15}   {(TP+FP)/N:^15.2f}   {(FN+TN)/N:^15.2f}   {'100%':^15}\")"
   ]
  },
  {
   "cell_type": "code",
   "execution_count": 781,
   "metadata": {
    "slideshow": {
     "slide_type": "subslide"
    }
   },
   "outputs": [],
   "source": [
    "life = Life()\n",
    "s=''\n",
    "doc = COVIDtest()"
   ]
  },
  {
   "cell_type": "code",
   "execution_count": 801,
   "metadata": {
    "slideshow": {
     "slide_type": "fragment"
    }
   },
   "outputs": [
    {
     "data": {
      "text/plain": [
       "'😊😊💀😊💀😊💀😊😊💀💀😊😊😊💀'"
      ]
     },
     "execution_count": 801,
     "metadata": {},
     "output_type": "execute_result"
    }
   ],
   "source": [
    "s += life.happen()\n",
    "s"
   ]
  },
  {
   "cell_type": "code",
   "execution_count": 812,
   "metadata": {
    "slideshow": {
     "slide_type": "fragment"
    }
   },
   "outputs": [
    {
     "name": "stdout",
     "output_type": "stream",
     "text": [
      "💀 --> 😷 (болен)\n"
     ]
    }
   ],
   "source": [
    "state = life.happen()\n",
    "print(f\"{state} --> {doc.test(state)}\")"
   ]
  },
  {
   "cell_type": "markdown",
   "metadata": {
    "slideshow": {
     "slide_type": "subslide"
    }
   },
   "source": [
    "Как бы нам характеризовать тест? (экспериментально или теоретически)\n",
    "- **вариант 1**. Выявление вируса"
   ]
  },
  {
   "cell_type": "code",
   "execution_count": 814,
   "metadata": {
    "slideshow": {
     "slide_type": "fragment"
    }
   },
   "outputs": [
    {
     "name": "stdout",
     "output_type": "stream",
     "text": [
      "Выявлено 77.7% случаев (выборка: 2771 больных на 10000 пациентов)\n"
     ]
    }
   ],
   "source": [
    "success = 0\n",
    "sick_cases = 0\n",
    "N = 10000\n",
    "\n",
    "for n in range(N):\n",
    "    state = life.happen()\n",
    "    if state == \"💀\":\n",
    "        sick_cases += 1\n",
    "    res = doc.test(state)\n",
    "    if state == \"💀\" and res == \"😷 (болен)\":\n",
    "        success += 1\n",
    "        \n",
    "print(f\"Выявлено {success*100 / sick_cases:.1f}% случаев (выборка: {sick_cases} больных на {N} пациентов)\")"
   ]
  },
  {
   "cell_type": "markdown",
   "metadata": {
    "slideshow": {
     "slide_type": "fragment"
    }
   },
   "source": [
    "**есть ли здесь проблема?**"
   ]
  },
  {
   "cell_type": "code",
   "execution_count": 815,
   "metadata": {
    "slideshow": {
     "slide_type": "subslide"
    }
   },
   "outputs": [],
   "source": [
    "def run_experiments(life, doc, N=1000):\n",
    "    results = {(\"💀\",\"😷 (болен)\"):0, (\"💀\",\"👍 (здоров)\"):0, (\"😊\",\"😷 (болен)\"):0, (\"😊\",\"👍 (здоров)\"):0}\n",
    "\n",
    "    for n in range(N):\n",
    "        state = life.happen()\n",
    "        result = doc.test(state)\n",
    "        results[(state,result)] += 1\n",
    "\n",
    "    TP = results[(\"💀\",\"😷 (болен)\")]\n",
    "    FP = results[(\"😊\",\"😷 (болен)\")]\n",
    "    TN = results[(\"😊\",\"👍 (здоров)\")]\n",
    "    FN = results[(\"💀\",\"👍 (здоров)\")]\n",
    "\n",
    "    return TP, FP, TN, FN"
   ]
  },
  {
   "cell_type": "code",
   "execution_count": 816,
   "metadata": {
    "scrolled": false,
    "slideshow": {
     "slide_type": "subslide"
    }
   },
   "outputs": [
    {
     "name": "stdout",
     "output_type": "stream",
     "text": [
      "Правда / Тест -> |   😷 (+ болен)   |  👍 (- здоров)   |        ∑        | %\n",
      "================================================================================\n",
      "💀                      2,101              617              2,718        0.27\n",
      "😊                      6,580              702              7,282        0.73\n",
      "--------------------------------------------------------------------------------\n",
      "∑                      8,681             1,319            10,000         1.0\n",
      "%                      0.87              0.13              100%      \n"
     ]
    }
   ],
   "source": [
    "TP, FP, TN, FN = run_experiments(life, doc, 10000)\n",
    "make_table(TP, FP, TN, FN)"
   ]
  },
  {
   "cell_type": "markdown",
   "metadata": {
    "slideshow": {
     "slide_type": "fragment"
    }
   },
   "source": [
    "**Как можно еще характеризовать тест:**\n",
    "- процент ошибок I рода -- \"False positives\"\n",
    "- ... II рода -- \"False negatives\"\n",
    "- sensitivity *aka* recall *aka* true positive rate = `True Positives` / `Positives`.\n",
    "- specificity *aka* selectivity *aka* true negative rate = `True Negatives` / `Negatives`.\n",
    "\n",
    "Практически всегда приходится искать баланс между \"чувствительностью\" и \"специфичностью\" (см. [Wiki](https://en.wikipedia.org/wiki/Precision_and_recall) по поводу этих параметров)"
   ]
  },
  {
   "cell_type": "code",
   "execution_count": 817,
   "metadata": {
    "slideshow": {
     "slide_type": "fragment"
    }
   },
   "outputs": [
    {
     "name": "stdout",
     "output_type": "stream",
     "text": [
      "P(COVID) = 0.27\n",
      "Recall = 0.79, Specificity = 0.09\n",
      "Recall (sample) = 0.77, Specificity (sample) = 0.10\n"
     ]
    }
   ],
   "source": [
    "# При этом настоящие параметры:\n",
    "print(f\"P(COVID) = {life.COVID_prob:.2f}\")\n",
    "print(f\"Recall = {doc.recall:.2f}, Specificity = {doc.specificity:.2f}\")\n",
    "\n",
    "# Выборочные:\n",
    "print(f\"Recall (sample) = {TP / (TP+FN):.2f}, Specificity (sample) = {TN/(TN+FP):.2f}\")"
   ]
  },
  {
   "cell_type": "markdown",
   "metadata": {
    "slideshow": {
     "slide_type": "slide"
    }
   },
   "source": [
    "### Некоторые примеры \"тестов\"\n",
    "\n",
    "- ПВО: пропуск цели и ложная тревога;\n",
    "- фильтрация спама;\n",
    "- задачи распознавания (напр., рукописного текста);\n",
    "- брак деталей на заводе (заворачиваем партию);\n",
    "- досмотр пассажиров и багажа;\n",
    "- биометрические распознавания;\n",
    "- в клинике: тестировние vs скрининг (можно false positive, но нужно дешево!)"
   ]
  },
  {
   "cell_type": "markdown",
   "metadata": {
    "slideshow": {
     "slide_type": "slide"
    }
   },
   "source": [
    "### Численный пример про тест на COVID\n",
    "**Источник:** адаптировано из https://snob.ru/entry/200847/\n",
    "\n",
    "Я сделал тест на антитела (скажем, в Москве) -- он положительный. Какая вероятность, что они у меня на самом деле есть?\n",
    "\n",
    "При этом:\n",
    "- допустим, что в Москве переболело порядка 5% населения.\n",
    "\n",
    "В документах на тест есть информация:\n",
    "- Sensitivity (\"True Positive Rate\") = 99%\n",
    "- Specificity (\"True Negative Rate\") = 98%\n",
    "\n",
    "Как будем считать?"
   ]
  },
  {
   "cell_type": "markdown",
   "metadata": {
    "slideshow": {
     "slide_type": "slide"
    }
   },
   "source": [
    "- пусть \"+\" означает \"тест на антитела положительный\", \"✅\" -- антитела правда есть; \"❌\" -- нет. Давайте так:\n",
    "\n",
    "$$\\mathbb{P}(✅|+) = \\frac{\\mathbb{P}(+|✅)\\mathbb{P}(✅)}{\\mathbb{P}(+)}\\nonumber$$"
   ]
  },
  {
   "cell_type": "markdown",
   "metadata": {
    "slideshow": {
     "slide_type": "fragment"
    }
   },
   "source": [
    "- далее, в знаменателе -- что-то непонятное. Давайте распишем по формуле полной вероятности:\n",
    "\n",
    "$$\\mathbb{P}(+) = \\mathbb{P}(+|✅)\\mathbb{P}(✅) + \\mathbb{P}(+|❌)\\mathbb{P}(❌)\\nonumber$$\n",
    "\n",
    "- осталось только \"распаковать\" сюда числа:"
   ]
  },
  {
   "cell_type": "markdown",
   "metadata": {
    "slideshow": {
     "slide_type": "fragment"
    }
   },
   "source": [
    "- ясно, что $\\mathbb{P}(✅)=0.05$. Значит, $\\mathbb{P}(❌) = 1-0.05 = 0.95$.\n",
    "- $\\mathbb{P}(+|✅)$ -- это и есть чувствительность, 0.99\n",
    "- осталось посчитать $\\mathbb{P}(+|❌)$ = 1 - Specificity = 0.02."
   ]
  },
  {
   "cell_type": "markdown",
   "metadata": {
    "slideshow": {
     "slide_type": "fragment"
    }
   },
   "source": [
    "таким образом,\n",
    "\n",
    "$$\\mathbb{P}(✅|+) = \\frac{\\mathbb{P}(+|✅)\\mathbb{P}(✅)}{\\mathbb{P}(+|✅)\\mathbb{P}(✅) + \\mathbb{P}(+|❌)\\mathbb{P}(❌)} = \\frac{0.99\\cdot0.05}{0.99\\cdot 0.05 + 0.02\\cdot 0.95}\\nonumber$$"
   ]
  },
  {
   "cell_type": "code",
   "execution_count": 818,
   "metadata": {},
   "outputs": [
    {
     "name": "stdout",
     "output_type": "stream",
     "text": [
      "Для ℙ(✅)=0.05: ℙ(✅|+)=0.72\n",
      "Для ℙ(✅)=0.50: ℙ(✅|+)=0.98\n"
     ]
    }
   ],
   "source": [
    "Sensitivity = 0.99\n",
    "Specificity = 0.98\n",
    "Pplus = 0.05\n",
    "\n",
    "print(f\"Для ℙ(✅)={Pplus:.2f}: ℙ(✅|+)={(Sensitivity * Pplus)/(Sensitivity*Pplus + (1-Specificity)*(1-Pplus)):.2f}\")\n",
    "\n",
    "# попробуем для другого процента переболевших\n",
    "Pplus = 0.5\n",
    "print(f\"Для ℙ(✅)={Pplus:.2f}: ℙ(✅|+)={(Sensitivity * Pplus)/(Sensitivity*Pplus + (1-Specificity)*(1-Pplus)):.2f}\")"
   ]
  },
  {
   "cell_type": "markdown",
   "metadata": {
    "slideshow": {
     "slide_type": "slide"
    }
   },
   "source": [
    "*ЗПШ-2021, сезон 29¾ :: \"Как устроены случайности?\"* *zpsh@bochkarev.io*\n",
    "\n",
    "**DISCORD ЗПШ:** `#05-2-z1-как-устроены-случайности`\n",
    "\n",
    "## Занятие 2: (не)зависимость, тесты и ко.\n",
    "\n",
    "- крокодилы и кролики, revised\n",
    "- зависимые и независимые события\n",
    "- условная вероятность\n",
    "- тест на COVID как случайная величина, характеристики тестов.\n",
    "\n",
    "\n",
    "## Следующее занятие: случайные величины\n",
    "- определение\n",
    "- характеристики (распределение, матожидание, дисперсия)\n",
    "- примеры случайных величин (видимо, дискретных)\n",
    "\n",
    "**Что можно сделать к занятию:** пересмотреть эту лекцию за чаем вечером."
   ]
  }
 ],
 "metadata": {
  "celltoolbar": "Slideshow",
  "kernelspec": {
   "display_name": "Python 3",
   "language": "python",
   "name": "python3"
  },
  "language_info": {
   "codemirror_mode": {
    "name": "ipython",
    "version": 3
   },
   "file_extension": ".py",
   "mimetype": "text/x-python",
   "name": "python",
   "nbconvert_exporter": "python",
   "pygments_lexer": "ipython3",
   "version": "3.7.6"
  },
  "latex_envs": {
   "LaTeX_envs_menu_present": true,
   "autoclose": false,
   "autocomplete": true,
   "bibliofile": "biblio.bib",
   "cite_by": "apalike",
   "current_citInitial": 1,
   "eqLabelWithNumbers": true,
   "eqNumInitial": 1,
   "hotkeys": {
    "equation": "Ctrl-E",
    "itemize": "Ctrl-I"
   },
   "labels_anchors": false,
   "latex_user_defs": false,
   "report_style_numbering": false,
   "user_envs_cfg": false
  },
  "toc": {
   "base_numbering": 1,
   "nav_menu": {
    "height": "150px",
    "width": "436px"
   },
   "number_sections": false,
   "sideBar": true,
   "skip_h1_title": false,
   "title_cell": "Table of Contents",
   "title_sidebar": "Contents",
   "toc_cell": false,
   "toc_position": {},
   "toc_section_display": true,
   "toc_window_display": false
  }
 },
 "nbformat": 4,
 "nbformat_minor": 4
}

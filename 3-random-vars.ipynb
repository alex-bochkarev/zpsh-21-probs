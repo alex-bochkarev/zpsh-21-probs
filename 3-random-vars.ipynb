{
 "cells": [
  {
   "cell_type": "markdown",
   "metadata": {
    "slideshow": {
     "slide_type": "slide"
    }
   },
   "source": [
    "*ЗПШ-2021, сезон 29¾ :: \"Как устроены случайности?\"*\n",
    "*zpsh@bochkarev.io*\n",
    "\n",
    "\n",
    "# Занятие 3: случайные величины\n",
    "- определение\n",
    "- характеристики (распределение, матожидание, дисперсия)\n",
    "- примеры случайных величин (видимо, дискретных)"
   ]
  },
  {
   "cell_type": "code",
   "execution_count": 1,
   "metadata": {
    "slideshow": {
     "slide_type": "skip"
    }
   },
   "outputs": [
    {
     "name": "stderr",
     "output_type": "stream",
     "text": [
      "Matplotlib is building the font cache; this may take a moment.\n"
     ]
    }
   ],
   "source": [
    "import numpy as np\n",
    "from scipy.special import comb\n",
    "import seaborn as sns\n",
    "import matplotlib.pyplot as plt\n",
    "from math import factorial, exp, pi, sqrt"
   ]
  },
  {
   "cell_type": "markdown",
   "metadata": {
    "slideshow": {
     "slide_type": "slide"
    }
   },
   "source": [
    "## Случайные события → случайные *величины*\n",
    "Ранее мы определили вероятностное пространство $(\\Omega, \\mathcal{F}, \\mathbb{P})$. Однако нас часто интересуют случайные *величины*, и не очень интересует структуа множества исходов. Можно ввести определение в духе следующего:\n",
    "\n",
    "**Случайная величина** -- это такая функция $\\xi: \\Omega \\rightarrow \\mathbb{R}$. \n",
    "\n",
    "Точнее, она должна обладать свойством, что для любого \"приличного\" подмножества $B\\subseteq \\mathbb{R}$ (можно сказать \"любого интервала $(a,b)$\") технически возможно посчитать вероятность $\\mathbb{P}(\\xi \\in B)$, т.е. $\\xi^{-1}(B) \\in \\mathcal{F}$ -- есть \"событие\".\n",
    "\n",
    "*Немного вкусных математических деталей: см., например, [\"Теорвер\"](https://tvims.nsu.ru/chernova/tv/tv_nsu07.pdf) Н.И. Черновой*"
   ]
  },
  {
   "cell_type": "markdown",
   "metadata": {
    "slideshow": {
     "slide_type": "slide"
    }
   },
   "source": [
    "**Как описывать случайные величины?**"
   ]
  },
  {
   "cell_type": "markdown",
   "metadata": {
    "slideshow": {
     "slide_type": "slide"
    }
   },
   "source": [
    "- для дискретного случая часто говорят про \"функцию вероятности\": $\\mathbb{P}(\\xi=x_i)=p_i$ для всех $i$.\n",
    "\n",
    "*(про другие случаи еще поговорим)*"
   ]
  },
  {
   "cell_type": "markdown",
   "metadata": {
    "slideshow": {
     "slide_type": "slide"
    }
   },
   "source": [
    "### Немного примеров\n",
    "- Скажем, $\\Omega=\\{⚀, ⚁, ⚂, ⚃, ⚄, ⚅\\}$ -- все тот же наш эксперимент с кубиками. Можно ввести $\\xi(\\omega)$ как количество выпавших очков. Ну то есть $\\xi(⚄) := 5$ и т.д."
   ]
  },
  {
   "cell_type": "markdown",
   "metadata": {
    "slideshow": {
     "slide_type": "subslide"
    }
   },
   "source": [
    "- А если я хочу, например, описать случайные числа от 1 до 100? (скажем, результаты теста) \n",
    "\n",
    "Я должен задать вероятности $p_1,\\ldots, p_{100}$ (*так чтобы что?*) и понимать, что вероятность $\\mathbb{P}(\\xi=x)=0$ для любого $x\\notin \\{1,\\ldots,100\\}$.\n",
    "\n",
    "В Python такие случайные числа можно получать, например, с помощью библиотеки numpy (хотя откуда и как брать случайность внутри компьютера -- отдельная, интересная тема):"
   ]
  },
  {
   "cell_type": "code",
   "execution_count": 2,
   "metadata": {
    "slideshow": {
     "slide_type": "fragment"
    }
   },
   "outputs": [
    {
     "data": {
      "text/plain": [
       "76"
      ]
     },
     "execution_count": 2,
     "metadata": {},
     "output_type": "execute_result"
    }
   ],
   "source": [
    "np.random.randint(0,101)"
   ]
  },
  {
   "cell_type": "markdown",
   "metadata": {
    "slideshow": {
     "slide_type": "subslide"
    }
   },
   "source": [
    "- А что, если я хочу получать случайные целые числа (пусть, быть может, и не равновероятные)? Вот любые: $0,1,2,\\ldots$ Такое возможно?"
   ]
  },
  {
   "cell_type": "markdown",
   "metadata": {
    "slideshow": {
     "slide_type": "fragment"
    }
   },
   "source": [
    "    * их, таких чисел, \"сколько\"?"
   ]
  },
  {
   "cell_type": "markdown",
   "metadata": {
    "slideshow": {
     "slide_type": "fragment"
    }
   },
   "source": [
    "    * какое должно выполняться условие на вероятности? Может ли вероятность в каждой точке быть ограничена снизу?\n",
    "    * мешает ли это всё нам?"
   ]
  },
  {
   "cell_type": "markdown",
   "metadata": {
    "slideshow": {
     "slide_type": "subslide"
    }
   },
   "source": [
    "ОК, пример:\n",
    "\n",
    "$$\\mathbb{P}(\\xi=x) := \\frac{10^x}{x!}e^{-10},\\quad x=1,2,3\\ldots\\nonumber$$\n",
    "\n",
    "Смотрите какая интересная штука:"
   ]
  },
  {
   "cell_type": "code",
   "execution_count": 3,
   "metadata": {
    "slideshow": {
     "slide_type": "subslide"
    }
   },
   "outputs": [
    {
     "name": "stderr",
     "output_type": "stream",
     "text": [
      "/home/bochkarev/distrib/anaconda3/lib/python3.7/site-packages/seaborn/_decorators.py:43: FutureWarning: Pass the following variables as keyword args: x, y. From version 0.12, the only valid positional argument will be `data`, and passing other arguments without an explicit keyword will result in an error or misinterpretation.\n",
      "  FutureWarning\n"
     ]
    },
    {
     "data": {
      "image/png": "[encoded data removed]",
      "text/plain": [
       "<Figure size 432x288 with 1 Axes>"
      ]
     },
     "metadata": {
      "needs_background": "light"
     },
     "output_type": "display_data"
    }
   ],
   "source": [
    "def show_p(p_func, N = 50, N0=1):\n",
    "    p = [0.0] * N\n",
    "\n",
    "    for x in range(N0, N):\n",
    "        p[x - N0] = p_func(x)\n",
    "    \n",
    "    sns.regplot([x for x in range(N)],p, fit_reg=False)\n",
    "    plt.grid()\n",
    "    plt.xlabel(\"x\", fontsize=20); plt.ylabel(\"ℙ(ξ=x)\", fontsize=20);\n",
    "\n",
    "show_p(p_func = lambda x: (10**x / factorial(x))*exp(-10))"
   ]
  },
  {
   "cell_type": "code",
   "execution_count": 4,
   "metadata": {
    "slideshow": {
     "slide_type": "fragment"
    }
   },
   "outputs": [
    {
     "ename": "NameError",
     "evalue": "name 'p' is not defined",
     "output_type": "error",
     "traceback": [
      "\u001b[0;31m---------------------------------------------------------------------------\u001b[0m",
      "\u001b[0;31mNameError\u001b[0m                                 Traceback (most recent call last)",
      "\u001b[0;32m<ipython-input-4-944672a91099>\u001b[0m in \u001b[0;36m<module>\u001b[0;34m\u001b[0m\n\u001b[0;32m----> 1\u001b[0;31m \u001b[0mp\u001b[0m\u001b[0;34m[\u001b[0m\u001b[0;34m-\u001b[0m\u001b[0;36m5\u001b[0m\u001b[0;34m:\u001b[0m\u001b[0;34m]\u001b[0m\u001b[0;34m\u001b[0m\u001b[0;34m\u001b[0m\u001b[0m\n\u001b[0m",
      "\u001b[0;31mNameError\u001b[0m: name 'p' is not defined"
     ]
    }
   ],
   "source": [
    "p[-5:]"
   ]
  },
  {
   "cell_type": "code",
   "execution_count": null,
   "metadata": {
    "slideshow": {
     "slide_type": "subslide"
    }
   },
   "outputs": [],
   "source": [
    "# Более того!\n",
    "def show_cumulative_p(p_func, p0, N = 50):\n",
    "    p_cumulative = [0.0] * N\n",
    "\n",
    "    p_cumulative[0] = p0\n",
    "\n",
    "    for x in range(1, N):\n",
    "        p_cumulative[x] = p_cumulative[x-1] + p_func(x)\n",
    "    \n",
    "    sns.regplot([x for x in range(N)],p_cumulative, fit_reg=False)\n",
    "    plt.grid()\n",
    "    plt.xlabel(\"x\", fontsize=20); plt.ylabel(\"(почти) ℙ(ξ≤x)\", \n",
    "                                             fontsize=20);\n",
    "    \n",
    "show_cumulative_p(p_func=lambda x: (10**x / factorial(x))*exp(-10), p0=exp(-10))"
   ]
  },
  {
   "cell_type": "code",
   "execution_count": null,
   "metadata": {
    "slideshow": {
     "slide_type": "fragment"
    }
   },
   "outputs": [],
   "source": [
    "p_cumulative[-5:]"
   ]
  },
  {
   "cell_type": "markdown",
   "metadata": {
    "slideshow": {
     "slide_type": "slide"
    }
   },
   "source": [
    "## Пример: схема Бернулли и биномиальное распределение.\n",
    "\n",
    "- давайте бросать смещенную монетку (вероятность \"успеха\" $p$), $n$ раз...\n",
    "\n",
    "Здесь можно отвечать на разные вопросы. Например, какова вероятность, что первый \"успех\" случится на $t$-й раз?"
   ]
  },
  {
   "cell_type": "markdown",
   "metadata": {
    "slideshow": {
     "slide_type": "fragment"
    }
   },
   "source": [
    "Конечно, $(1-p)^{t-1}p$."
   ]
  },
  {
   "cell_type": "markdown",
   "metadata": {
    "slideshow": {
     "slide_type": "fragment"
    }
   },
   "source": [
    "- теперь давайте считать количество успехов. Это будет наша $\\xi$.\n",
    "\n",
    "Какова $\\mathbb{P}(\\xi = k)$, и почему?"
   ]
  },
  {
   "cell_type": "markdown",
   "metadata": {
    "slideshow": {
     "slide_type": "fragment"
    }
   },
   "source": [
    "$$\\mathbb{P}(\\xi=k) = C_n^k p^k (1-p)^{n-k}\\nonumber,$$\n",
    "\n",
    "и это называется \"биномиальным\" распределением."
   ]
  },
  {
   "cell_type": "code",
   "execution_count": null,
   "metadata": {
    "slideshow": {
     "slide_type": "slide"
    }
   },
   "outputs": [],
   "source": [
    "n = 100\n",
    "\n",
    "plt.figure(figsize=(16,10))\n",
    "for p in [0.2, 0.5, 0.8]:\n",
    "    sns.regplot([i for i in range(n)], \n",
    "                [comb(n,k)*np.power(p, k)*np.power(1-p, n-k) for k in range(n)],\n",
    "                fit_reg=False,\n",
    "               label=f\"p={p}\")\n",
    "\n",
    "plt.grid()\n",
    "plt.legend()\n",
    "plt.xlabel(\"k\", fontsize=15); plt.ylabel(\"P(xi=k)\", \n",
    "                                         fontsize=15);"
   ]
  },
  {
   "cell_type": "markdown",
   "metadata": {
    "slideshow": {
     "slide_type": "slide"
    }
   },
   "source": [
    "#### Независимость случайных величин\n",
    "Определяется аналогично:\n",
    "- для событий было $\\mathbb{P}(A\\cap B) = \\mathbb{P}(A)\\mathbb{P}(B)$.\n",
    "- для случайных величин:"
   ]
  },
  {
   "cell_type": "markdown",
   "metadata": {
    "slideshow": {
     "slide_type": "fragment"
    }
   },
   "source": [
    "... $\\mathbb{P}(\\xi=x, \\eta=y)=\\mathbb{P}(\\xi=x)\\mathbb{P}(\\eta=y)$ для всех релевантных $x$ и $y$."
   ]
  },
  {
   "cell_type": "markdown",
   "metadata": {
    "slideshow": {
     "slide_type": "slide"
    }
   },
   "source": [
    "### Какие еще бывают (численные) характеристики случайных величин?\n",
    "**Интуитивно:** среднее значение и разброс.\n",
    "\n",
    "#### Математическое ожидание.\n",
    "Если $\\xi$ принимает значения $x_i$ с вероятностями $p_i$, то определим:\n",
    "\n",
    "$$\\mathbb{E}\\xi := \\sum_i x_i p_i\\nonumber.$$\n",
    "\n",
    "Всегда ли оно существует?"
   ]
  },
  {
   "cell_type": "markdown",
   "metadata": {
    "slideshow": {
     "slide_type": "slide"
    }
   },
   "source": [
    "**Нет.** Представим $\\xi=1,2,3,\\ldots$ и $\\mathbb{P}(\\xi=x)=6/(\\pi^2 x^2)$. Почему оно такое?\n",
    "Оказывается, это вполне нормальная случайная величина:"
   ]
  },
  {
   "cell_type": "code",
   "execution_count": null,
   "metadata": {
    "slideshow": {
     "slide_type": "fragment"
    }
   },
   "outputs": [],
   "source": [
    "plt.figure()\n",
    "show_p(p_func=lambda x: 6/((pi**2)*(x**2)), N0=1)\n",
    "\n",
    "plt.figure()\n",
    "show_cumulative_p(p_func=lambda x: 6/((pi**2)*(x**2)), p0=6/(pi**2))"
   ]
  },
  {
   "cell_type": "markdown",
   "metadata": {
    "slideshow": {
     "slide_type": "slide"
    }
   },
   "source": [
    "При этом, если я захочу вычислить сумму $\\sum_{x=1}^N x 6/(\\pi^2 x^2)=\\sum_{x=1}^N 6/(\\pi^2 x)$, при увеличении $N$ я, конечно столкнусь вот с чем:"
   ]
  },
  {
   "cell_type": "code",
   "execution_count": null,
   "metadata": {
    "slideshow": {
     "slide_type": "fragment"
    }
   },
   "outputs": [],
   "source": [
    "S = [0.0] * N\n",
    "\n",
    "S[0] = 6/(pi**2)\n",
    "\n",
    "for x in range(1, N):\n",
    "    S[x] = S[x-1] + 6/(x*pi**2)\n",
    "\n",
    "sns.regplot([x for x in range(N)],S, fit_reg=False)\n",
    "plt.grid()\n",
    "plt.xlabel(\"N\", fontsize=20); plt.ylabel(\"Сумма первых N слагаемых\", \n",
    "                                         fontsize=15);"
   ]
  },
  {
   "cell_type": "markdown",
   "metadata": {
    "slideshow": {
     "slide_type": "slide"
    }
   },
   "source": [
    "#### Математическое ожидание.\n",
    "Если $\\xi$ принимает значения $x_i$ с вероятностями $p_i$, то определим:\n",
    "\n",
    "$$\\mathbb{E}\\xi := \\sum_i x_i p_i\\nonumber.$$\n",
    "\n",
    "Всегда ли оно существует? -- Нет, но это все равно полезная штука.\n",
    "\n",
    "**Пара важных свойств:** \n",
    "- матожидание линейно -- для (любых) случайных величин $\\xi$ и $\\eta$, и (любых, неслучайных) чисел $a,b$:\n",
    "$$\\mathbb{E}[a\\xi + b\\eta]=a\\mathbb{E}\\xi + b\\mathbb{E}\\eta.\\nonumber$$\n",
    "- если $\\xi$, $\\eta$ -- независимы, то $\\mathbb{E}[\\xi\\eta]=\\mathbb{E}\\xi\\mathbb{E}\\eta$."
   ]
  },
  {
   "cell_type": "markdown",
   "metadata": {
    "slideshow": {
     "slide_type": "fragment"
    }
   },
   "source": [
    "**Посчитаем матожидание для $n$ испытаний схемы Бернулли**.\n",
    "\n",
    "*как?*"
   ]
  },
  {
   "cell_type": "markdown",
   "metadata": {
    "slideshow": {
     "slide_type": "fragment"
    }
   },
   "source": [
    "- для одного испытания -- очевидно, $p$. Для суммы из $n$ -- по свойству выше, $np$."
   ]
  },
  {
   "cell_type": "markdown",
   "metadata": {
    "slideshow": {
     "slide_type": "slide"
    }
   },
   "source": [
    "#### Дисперсия.\n",
    "\n",
    "$$D\\xi := \\mathbb{E}(\\xi - E\\xi)^2 = \\mathbb{E}\\xi^2 - (\\mathbb{E}\\xi)^2\\nonumber$$\n",
    "\n",
    "Часто говорят про **среднеквадратичное отклонение** $\\sigma := \\sqrt{D\\xi}$.\n",
    "\n",
    "Среди важных свойств выделим:\n",
    "- $D[c\\xi] = c^2D\\xi$\n",
    "- $D[\\xi + c] = D\\xi$\n",
    "- если $\\xi,\\eta$ -- независимы, то $D[\\xi+\\eta]=D\\xi+D\\eta$."
   ]
  },
  {
   "cell_type": "markdown",
   "metadata": {
    "slideshow": {
     "slide_type": "fragment"
    }
   },
   "source": [
    "**Посчитаем дисперсию для $n$ испытаний схемы Бернулли**.\n",
    "\n",
    "*как?*"
   ]
  },
  {
   "cell_type": "markdown",
   "metadata": {
    "slideshow": {
     "slide_type": "fragment"
    }
   },
   "source": [
    "- для одного испытания -- очевидно, $p(1-p)$. Для суммы из $n$ -- по свойству выше, $np(1-p)$."
   ]
  },
  {
   "cell_type": "code",
   "execution_count": null,
   "metadata": {
    "scrolled": true,
    "slideshow": {
     "slide_type": "slide"
    }
   },
   "outputs": [],
   "source": [
    "## Поясним численно\n",
    "def make_bernoulli_trial(n, p):\n",
    "    \"\"\"Выполняет один эксперимент (в n испытаний).\"\"\"\n",
    "    outcome = [ 1*(np.random.random() <= p) for _ in range(n) ]\n",
    "    return np.sum(outcome)\n",
    "\n",
    "n = 50\n",
    "p = 0.3\n",
    "\n",
    "N=1000\n",
    "\n",
    "k = [ make_bernoulli_trial(n, p) for _ in range(N) ]\n",
    "\n",
    "def draw_figure():\n",
    "    plt.figure(figsize=(16,10))\n",
    "    ax = sns.regplot([i for i in range(N)], k, fit_reg=False)\n",
    "    plt.grid()\n",
    "    plt.xlabel(\"эксперимент\", fontsize=15); plt.ylabel(\"результат (k)\", \n",
    "                                             fontsize=15);\n",
    "    plt.axhline(n*p,color='green', linewidth=5)\n",
    "    ax.text(0, n*p+0.3, \"np\", fontsize=15, color='green')\n",
    "\n",
    "    plt.axhline(n*p - sqrt(n*p*(1-p)), color='red', ls='solid')\n",
    "    ax.text(0, n*p - sqrt(n*p*(1-p))+0.3, \"-sigma\", fontsize=15, color='red')\n",
    "    plt.axhline(n*p + sqrt(n*p*(1-p)), color='red', ls='solid')\n",
    "    ax.text(0, n*p + sqrt(n*p*(1-p))+0.3, \"+sigma\", fontsize=15, color='red')\n",
    "\n",
    "    plt.axhline(n*p - 2*sqrt(n*p*(1-p)), color='red', ls='dashed')\n",
    "    ax.text(0, n*p - 2*sqrt(n*p*(1-p))+0.3, \"-2sigma\", fontsize=15, color='red')\n",
    "    plt.axhline(n*p + 2*sqrt(n*p*(1-p)), color='red', ls='dashed')\n",
    "    ax.text(0, n*p + 2*sqrt(n*p*(1-p))+0.3, \"+2sigma\", fontsize=15, color='red')\n",
    "\n",
    "    plt.axhline(n*p - 3*sqrt(n*p*(1-p)), color='red', ls='dotted')\n",
    "    plt.axhline(n*p + 3*sqrt(n*p*(1-p)), color='red', ls='dotted')"
   ]
  },
  {
   "cell_type": "code",
   "execution_count": null,
   "metadata": {
    "scrolled": true,
    "slideshow": {
     "slide_type": "slide"
    }
   },
   "outputs": [],
   "source": [
    "draw_figure()"
   ]
  },
  {
   "cell_type": "markdown",
   "metadata": {
    "slideshow": {
     "slide_type": "fragment"
    }
   },
   "source": [
    "Такой график может использоваться вполне буквально:"
   ]
  },
  {
   "cell_type": "code",
   "execution_count": null,
   "metadata": {
    "slideshow": {
     "slide_type": "slide"
    }
   },
   "outputs": [],
   "source": [
    "class ProductionLine:\n",
    "    def __init__(self, p1, p2, n, t_star = np.random.randint(90, 110)):\n",
    "        self.p1 = p1\n",
    "        self.p2 = p2\n",
    "        self.n = n\n",
    "        self.t_star = t_star\n",
    "        self.t = 0\n",
    "        self.ts = [0]\n",
    "        self.res = [0]\n",
    "        self.p = p1\n",
    "        \n",
    "    def step(self):\n",
    "        self.t += 1\n",
    "        if self.t == self.t_star:\n",
    "            print(\"click\")\n",
    "            self.p = self.p2\n",
    "        return make_bernoulli_trial(self.n, self.p)\n",
    "    \n",
    "    def refresh(self, by=10):\n",
    "        for _ in range(by):\n",
    "            self.res.append(self.step())\n",
    "            self.ts.append(self.t)\n",
    "\n",
    "        np = self.n*self.p1\n",
    "        sigma = sqrt(self.n*self.p1*(1-self.p1))\n",
    "        \n",
    "        plt.figure(figsize=(16,10))\n",
    "        ax = sns.regplot(self.ts, self.res, fit_reg=False)\n",
    "        plt.grid()\n",
    "        plt.xlabel(\"Номер партии\", fontsize=15); plt.ylabel(\"Брак (кол-во)\", \n",
    "                                                 fontsize=15);\n",
    "        plt.axhline(np,color='green', linewidth=5)\n",
    "        ax.text(0, np+0.3, \"np\", fontsize=15, color='green')\n",
    "\n",
    "        plt.axhline(np - sigma, color='red', ls='solid')\n",
    "        ax.text(0, np - sigma+0.3, \"-sigma\", fontsize=15, color='red')\n",
    "        plt.axhline(np + sigma, color='red', ls='solid')\n",
    "        ax.text(0, np + sigma + 0.3, \"+sigma\", fontsize=15, color='red')\n",
    "\n",
    "        plt.axhline(np - 2*sigma, color='red', ls='dashed')\n",
    "        ax.text(0, np - 2*sigma+0.3, \"-2sigma\", fontsize=15, color='red')\n",
    "        plt.axhline(np + 2*sigma, color='red', ls='dashed')\n",
    "        ax.text(0, np + 2*sigma+0.3, \"+2sigma\", fontsize=15, color='red')\n",
    "\n",
    "        plt.axhline(np - 3*sigma, color='red', ls='dotted')\n",
    "        plt.axhline(np + 3*sigma, color='red', ls='dotted')\n",
    "        plt.xlim(0,200)\n",
    "        plt.ylim(np - 3.5*sigma, np + 3.5*sigma)"
   ]
  },
  {
   "cell_type": "code",
   "execution_count": null,
   "metadata": {
    "slideshow": {
     "slide_type": "slide"
    }
   },
   "outputs": [],
   "source": [
    "n = 1000; p=0.01; p_bad=0.013\n",
    "pline = ProductionLine(p, p_bad, n)"
   ]
  },
  {
   "cell_type": "code",
   "execution_count": null,
   "metadata": {
    "slideshow": {
     "slide_type": "slide"
    }
   },
   "outputs": [],
   "source": [
    "pline.refresh()"
   ]
  },
  {
   "cell_type": "code",
   "execution_count": null,
   "metadata": {
    "slideshow": {
     "slide_type": "fragment"
    }
   },
   "outputs": [],
   "source": [
    "pline.t_star"
   ]
  },
  {
   "cell_type": "markdown",
   "metadata": {
    "slideshow": {
     "slide_type": "slide"
    }
   },
   "source": [
    "Давайте немного разовьем идею?\n",
    "\n",
    "Допустим, я подбросил монетку 100 раз и у меня 80 раз выпал орел. **Вопрос:** монетка точно ок?"
   ]
  },
  {
   "cell_type": "markdown",
   "metadata": {
    "slideshow": {
     "slide_type": "fragment"
    }
   },
   "source": [
    "Можно *предположить*, что монетка честная, и посчитать вероятность получить то, что получилось (или еще круче). Обычно это формулируют так:\n",
    "- **Гипотеза 0 ($H_0$):** $p=0.5$.\n",
    "- определяем \"разумный\" порог $\\alpha$ -- \"уровень значимости\". Например, 1%. Может быть, пять процентов.\n",
    "- Считаем вероятность получить такой же \"или более экстремальный\" результат -- это называется [p-value](https://ru.wikipedia.org/wiki/P-%D0%B7%D0%BD%D0%B0%D1%87%D0%B5%D0%BD%D0%B8%D0%B5).\n",
    "\n",
    "Теперь, если p-value < $\\alpha$ -- то данные противоречат гипотезе, и ее хорошо бы отвергнуть. Посмотрим:"
   ]
  },
  {
   "cell_type": "markdown",
   "metadata": {
    "slideshow": {
     "slide_type": "fragment"
    }
   },
   "source": [
    "в нашем случае, p-value=$\\sum_{k=80}^{100} C_n^k p^k(1-p)^n-k$, где $n=100$, $p=0.5$. То есть:"
   ]
  },
  {
   "cell_type": "code",
   "execution_count": null,
   "metadata": {
    "slideshow": {
     "slide_type": "slide"
    }
   },
   "outputs": [],
   "source": [
    "def P(n,k,p):\n",
    "    return comb(n,k)*np.power(p, k)*np.power(1-p, n-k)\n",
    "\n",
    "pval = sum([ P(n=100, k=k, p=0.5) for k in range(80,100 + 1)])\n",
    "print(f\"p-value for k=80: {pval}\")\n",
    "\n",
    "pval = sum([ P(n=100, k=k, p=0.5) for k in range(60,100 + 1)])\n",
    "print(f\"p-value for k=60: {pval}\")"
   ]
  },
  {
   "cell_type": "markdown",
   "metadata": {
    "slideshow": {
     "slide_type": "fragment"
    }
   },
   "source": [
    "Считать такое впрямую -- хорошо, но бывает накладно (долго). Поэтому обычно пользуются некоторыми "
   ]
  }
 ],
 "metadata": {
  "celltoolbar": "Slideshow",
  "kernelspec": {
   "display_name": "Python 3",
   "language": "python",
   "name": "python3"
  },
  "language_info": {
   "codemirror_mode": {
    "name": "ipython",
    "version": 3
   },
   "file_extension": ".py",
   "mimetype": "text/x-python",
   "name": "python",
   "nbconvert_exporter": "python",
   "pygments_lexer": "ipython3",
   "version": "3.7.6"
  },
  "latex_envs": {
   "LaTeX_envs_menu_present": true,
   "autoclose": false,
   "autocomplete": true,
   "bibliofile": "biblio.bib",
   "cite_by": "apalike",
   "current_citInitial": 1,
   "eqLabelWithNumbers": true,
   "eqNumInitial": 1,
   "hotkeys": {
    "equation": "Ctrl-E",
    "itemize": "Ctrl-I"
   },
   "labels_anchors": false,
   "latex_user_defs": false,
   "report_style_numbering": false,
   "user_envs_cfg": false
  },
  "toc": {
   "base_numbering": 1,
   "nav_menu": {},
   "number_sections": false,
   "sideBar": true,
   "skip_h1_title": false,
   "title_cell": "Table of Contents",
   "title_sidebar": "Contents",
   "toc_cell": false,
   "toc_position": {},
   "toc_section_display": true,
   "toc_window_display": false
  }
 },
 "nbformat": 4,
 "nbformat_minor": 4
}

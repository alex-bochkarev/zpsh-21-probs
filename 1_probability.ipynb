{
 "cells": [
  {
   "cell_type": "markdown",
   "metadata": {
    "slideshow": {
     "slide_type": "slide"
    }
   },
   "source": [
    "*ЗПШ-2021, сезон 29¾ :: \"Как устроены случайности?\"*\n",
    "*zpsh@bochkarev.io*\n",
    "\n",
    "\n",
    "# Занятие 1: модель для случайных событий. \n",
    "\n",
    "- классическое определение вероятности, частоты\n",
    "- эксперименты с кубиками\n",
    "- эксперименты с ~крокодилами~ черными и белыми шарами\n",
    "- вероятностное пространство. Исходы, события. Элементы теории множеств\n",
    "- пример с текстом"
   ]
  },
  {
   "cell_type": "code",
   "execution_count": 1,
   "metadata": {
    "slideshow": {
     "slide_type": "skip"
    }
   },
   "outputs": [],
   "source": [
    "%load_ext autoreload\n",
    "%autoreload 2\n",
    "\n",
    "import numpy as np  # мощная библиотека для всяких вычислений\n",
    "from time import time  # для измерения времени\n",
    "from tqdm.notebook import tqdm  # это progress-bar\n",
    "# эти для рисования графиков:\n",
    "import seaborn as sns\n",
    "import matplotlib.pyplot as plt\n",
    "sns.set()"
   ]
  },
  {
   "cell_type": "markdown",
   "metadata": {
    "slideshow": {
     "slide_type": "slide"
    }
   },
   "source": [
    "## \"Честная\" монета\n",
    "- эксперимент с двумя исходами, \"орел\" (**H**EADs) или \"решка\" (**T**AILs)."
   ]
  },
  {
   "cell_type": "code",
   "execution_count": null,
   "metadata": {
    "slideshow": {
     "slide_type": "fragment"
    }
   },
   "outputs": [],
   "source": [
    "from course import coin\n",
    "c = coin()\n",
    "s = ''"
   ]
  },
  {
   "cell_type": "code",
   "execution_count": null,
   "metadata": {
    "slideshow": {
     "slide_type": "fragment"
    }
   },
   "outputs": [],
   "source": [
    "s += c.toss()\n",
    "s"
   ]
  },
  {
   "cell_type": "code",
   "execution_count": null,
   "metadata": {
    "slideshow": {
     "slide_type": "slide"
    }
   },
   "outputs": [],
   "source": [
    "def toss_a_coin(NO_BATCHES=10, BATCH_SIZE=10):\n",
    "    no_heads = 0\n",
    "    heads_freq = []\n",
    "\n",
    "    c = coin()\n",
    "    for i in range(NO_BATCHES):\n",
    "        for j in range(BATCH_SIZE):\n",
    "            if c.toss() == \"H\":\n",
    "                no_heads += 1\n",
    "        heads_freq.append(no_heads / ((i+1)*BATCH_SIZE))\n",
    "    \n",
    "    return heads_freq"
   ]
  },
  {
   "cell_type": "code",
   "execution_count": null,
   "metadata": {
    "scrolled": true,
    "slideshow": {
     "slide_type": "fragment"
    }
   },
   "outputs": [],
   "source": [
    "heads_freq = toss_a_coin()\n",
    "fig = sns.lineplot([i for i in range(len(heads_freq))], heads_freq, label=\"heads\")\n",
    "fig.axhline(0.500, color='red', ls='--')"
   ]
  },
  {
   "cell_type": "code",
   "execution_count": null,
   "metadata": {
    "scrolled": false,
    "slideshow": {
     "slide_type": "slide"
    }
   },
   "outputs": [],
   "source": [
    "fig, ax = plt.subplots(2, 3, sharey=True, figsize=(16,10)); ax = ax.flatten()\n",
    "fig.suptitle('Частоты \"орлов\" в зависимости от количества экспериментов.')\n",
    "\n",
    "for k, NB in enumerate([10, 100, 1000, 10000, 20000, 50000]):\n",
    "    ax[k].set_title(f\"Кол-во запусков: {NB}\")\n",
    "    heads_freq = toss_a_coin(NO_BATCHES=NB)\n",
    "    \n",
    "    sns.lineplot([i for i in range(len(heads_freq))], heads_freq, ax=ax[k])\n",
    "    ax[k].axhline(0.500, color='red', ls='dotted')"
   ]
  },
  {
   "cell_type": "code",
   "execution_count": null,
   "metadata": {
    "slideshow": {
     "slide_type": "slide"
    }
   },
   "outputs": [],
   "source": [
    "print(f'\"Долгосрочная доля\" решек (на {len(heads_freq)*10:,} испытаний): {heads_freq[-1]:.4f}')"
   ]
  },
  {
   "cell_type": "markdown",
   "metadata": {
    "slideshow": {
     "slide_type": "slide"
    }
   },
   "source": [
    "## *ВОПРОС:* как описывать случайные события?"
   ]
  },
  {
   "cell_type": "markdown",
   "metadata": {
    "slideshow": {
     "slide_type": "fragment"
    }
   },
   "source": [
    "1. описание всех возможных исходов\n",
    "2. \"долгосрочные частоты\" каждого варианта\n",
    "\n",
    "Типа:\n",
    "- $\\Omega=\\{H,T\\}$ -- возможные исходы\n",
    "- $p_H=p_T=1/2$\n",
    "\n",
    "*что-то еще нужно?*"
   ]
  },
  {
   "cell_type": "markdown",
   "metadata": {
    "slideshow": {
     "slide_type": "fragment"
    }
   },
   "source": [
    "Давайте посмотрим чуть усложненный пример:\n",
    "\n",
    "<img src=\"./images/dice.png\" width=100 heigth=100> "
   ]
  },
  {
   "cell_type": "code",
   "execution_count": null,
   "metadata": {
    "slideshow": {
     "slide_type": "slide"
    }
   },
   "outputs": [],
   "source": [
    "from course import dice\n",
    "d = dice()\n",
    "s=''"
   ]
  },
  {
   "cell_type": "code",
   "execution_count": null,
   "metadata": {
    "slideshow": {
     "slide_type": "fragment"
    }
   },
   "outputs": [],
   "source": [
    "s += d.roll()\n",
    "s"
   ]
  },
  {
   "cell_type": "code",
   "execution_count": null,
   "metadata": {
    "slideshow": {
     "slide_type": "slide"
    }
   },
   "outputs": [],
   "source": [
    "def roll_a_die(NO_BATCHES=10, BATCH_SIZE=60):\n",
    "    c = dice()\n",
    "    \n",
    "    numbers = dict(zip(c.Omega, [0]*6))\n",
    "    freqs = [0.0] * NO_BATCHES\n",
    "    \n",
    "    for i in range(NO_BATCHES):\n",
    "        for j in range(BATCH_SIZE):\n",
    "            numbers[c.roll()] += 1\n",
    "            \n",
    "        freqs[i] = [numbers[X] / ((i+1)*BATCH_SIZE) for X in numbers.keys()]\n",
    "    \n",
    "    return freqs"
   ]
  },
  {
   "cell_type": "code",
   "execution_count": null,
   "metadata": {
    "slideshow": {
     "slide_type": "slide"
    }
   },
   "outputs": [],
   "source": [
    "fig, ax = plt.subplots(2, 3, sharey=True, figsize=(16,10)); ax = ax.flatten()\n",
    "fig.suptitle('Частоты исходов в зависимости от количества экспериментов.')\n",
    "\n",
    "for k, NB in enumerate([10, 100, 500, 1000, 2500, 5000]):\n",
    "    ax[k].set_title(f\"Кол-во запусков: {NB}\")\n",
    "    freqs = roll_a_die(NO_BATCHES=NB)\n",
    "    \n",
    "    for i in range(6):\n",
    "        sns.lineplot([j for j in range(NB)],\n",
    "                     [freqs[b][i] for b in range(NB)],\n",
    "                     ax=ax[k], label=f\"{i+1}\")\n",
    "    ax[k].axhline(0.16667, color='red', ls='dotted')"
   ]
  },
  {
   "cell_type": "code",
   "execution_count": null,
   "metadata": {
    "slideshow": {
     "slide_type": "slide"
    }
   },
   "outputs": [],
   "source": [
    "print(f'\"Долгосрочная доля\" исходов (на {len(freqs)*60:,} испытаний): \\n{freqs[-1]}')"
   ]
  },
  {
   "cell_type": "markdown",
   "metadata": {
    "slideshow": {
     "slide_type": "slide"
    }
   },
   "source": [
    "## Тестируем нашу \"модель\".\n",
    "- $\\Omega=$ {⚀, ⚁, ⚂, ⚃, ⚄, ⚅} -- возможные исходы\n",
    "- $p_⚀=\\ldots=p_⚅=1/6$ -- давайте думать о вероятности, как о \"долгосрочных частотах\".\n",
    "\n",
    "**Вопросы на обсуждение:**"
   ]
  },
  {
   "cell_type": "markdown",
   "metadata": {
    "slideshow": {
     "slide_type": "fragment"
    }
   },
   "source": [
    "- чему равна вероятность \"⚄\"? почему?\n",
    "- я выигрываю, если выброшу 4 или более. Какая вероятность выиграть?\n",
    "- ... только если четные. Какая вероятность выиграть?\n",
    "- ... только если четные, либо что угодно больше `4`? \n",
    "\n",
    "(**подсказка:** кажется, нужен \"костыль\")"
   ]
  },
  {
   "cell_type": "markdown",
   "metadata": {
    "slideshow": {
     "slide_type": "slide"
    }
   },
   "source": [
    "## Как организовать математическую модель?\n",
    "\n",
    "Нам на самом деле нужно три компоненты:\n",
    "- все возможные *исходы*. $\\Omega=$ {⚀, ⚁, ⚂, ⚃, ⚄, ⚅} -- куда же без них...  (*Какое-то непустое множество.*)\n",
    "- все возможные *события*. $\\mathcal{F}$ -- например, все подмножества $\\Omega$. \n",
    "  + Мне не обязательно их перечислять, но надо понимать, что вероятность будет относиться именно к ним, а не (\"только\") к исходам.\n",
    "  + Вообще, это какая-то коллекция подмножеств $\\Omega$. *Какая?*\n",
    "- функция вероятности $\\mathbb{P}: \\mathcal{F} \\rightarrow [0,1]$, которая... *что?*\n"
   ]
  },
  {
   "cell_type": "markdown",
   "metadata": {
    "slideshow": {
     "slide_type": "fragment"
    }
   },
   "source": [
    "1. $\\mathbb{P}(\\varnothing)=0$\n",
    "2. $\\mathbb{P}(\\Omega)=1$\n",
    "3. если в событиях $A$ и $B$ нет общих элеметов, то $\\mathbb{P}(A\\cup B) = \\mathbb{P}(A)+\\mathbb{P}(B)$\n",
    "\n",
    "Про эту функцию можно думать как про \"вес\" подмножества $\\Omega$ (на самом деле используют слово *мера*)"
   ]
  },
  {
   "cell_type": "markdown",
   "metadata": {
    "slideshow": {
     "slide_type": "subslide"
    }
   },
   "source": [
    "## Про \"теорию множеств\" -- a 5 minute crash course. (нестрого)\n",
    "\n",
    "- множество -- это, хм... набор чего-то. Грубо говоря, это такой список чего угодно*, где порядок не важен, и элементы не повторяются:\n",
    "  + `{1,2,3}`, `{A,B,C}`, `{X, 42, \"Леша\", буква Ѯ, Московский Ордена Трудового Красного Знамени Физико-технический Институт}` -- это все множества. `{a,b,b,c}` -- нет (*почему?*).\n",
    "  \n",
    "  ---\n",
    "[*] почти. Тонкость: может ли множество входить само в себя, в качестве элемента? Известная задачка: парикмахер живет в деревне. Он бреет тех и только тех жителей деревни, которые не бреются сами. Вопрос: бреет ли он себе бороду? Если тема интересна, можно, например, почитать книжку Н.Я. Виленкина [\"Рассказы о теории множеств\"](http://ilib.mccme.ru/pdf/rasomn.pdf) (старшие классы); см. также [Парадокс Рассела](https://ru.wikipedia.org/wiki/%D0%9F%D0%B0%D1%80%D0%B0%D0%B4%D0%BE%D0%BA%D1%81_%D0%A0%D0%B0%D1%81%D1%81%D0%B5%D0%BB%D0%B0)."
   ]
  },
  {
   "cell_type": "markdown",
   "metadata": {
    "slideshow": {
     "slide_type": "subslide"
    }
   },
   "source": [
    "- все множество исходов (интересных) мы обозначаем $\\Omega$, ничего -- $\\varnothing$ (пустое множество).\n",
    "- если исход `x` (не)относится к событию `A`, мы пишем: $x \\in A$ (соответственно, $x\\notin A$)\n",
    "- над множествами можно делать более или менее очевидные операции и определять соотношения. Например:\n",
    "<center>\n",
    "<img src=\"./images/sets.png\" width=\"800\" height=\"400\">\n",
    " "
   ]
  },
  {
   "cell_type": "markdown",
   "metadata": {
    "slideshow": {
     "slide_type": "slide"
    }
   },
   "source": [
    "## Так вот... про вероятности.\n",
    "\n",
    "1. $\\mathbb{P}(\\varnothing)=0$\n",
    "2. $\\mathbb{P}(\\Omega)=1$\n",
    "3. если в событиях $A$ и $B$ нет общих элеметов, то $\\mathbb{P}(A\\cup B) = \\mathbb{P}(A)+\\mathbb{P}(B)$\n",
    "\n",
    "Про эту функцию можно думать как про \"вес\" подмножества $\\Omega$ (на самом деле используют слово *мера*)\n",
    "\n",
    "- *Вопрос на подумать:* а чему равна вероятность события $A\\cup B$, если $A\\cap B \\neq \\varnothing$?"
   ]
  },
  {
   "cell_type": "markdown",
   "metadata": {
    "slideshow": {
     "slide_type": "slide"
    }
   },
   "source": [
    "## Классическое определение для \"равновероятных\" исходов.\n",
    "Если исходы \"должны случаться одинаково часто\", логично ввести вероятность события как долю релевантных исходов:\n",
    "- $\\mathbb{P}(A)=$ `<количество исходов в A>` / `<количество исходов в Ω>`\n",
    "- работает для нашего примера с кубиками или \"честной\" монеткой.\n",
    "- можно придумать еще примеров:"
   ]
  },
  {
   "cell_type": "markdown",
   "metadata": {
    "slideshow": {
     "slide_type": "slide"
    }
   },
   "source": [
    "**Задача.** Допустим, у меня есть ~мешок с шариками~ волшебная шляпа, из которой я могу достать кролика. Недобросовестный поставщик, из-за сложностей, связанных с коронавирусом, не нашел достаточное количество кроликов. Поэтому, в пятом измерении внутри шляпы сидит не только 🐇🐇🐇🐇🐇🐇🐇🐇🐇🐇 (10), но и 🐊🐊🐊🐊🐊  (5).\n",
    "\n",
    "**Вопрос:** \n",
    "**(1)** как часто (в среднем) у меня на представлении будет случаться конфуз?.."
   ]
  },
  {
   "cell_type": "markdown",
   "metadata": {
    "slideshow": {
     "slide_type": "fragment"
    }
   },
   "source": [
    "- ну да, 5/15 ~ 33%"
   ]
  },
  {
   "cell_type": "markdown",
   "metadata": {
    "slideshow": {
     "slide_type": "fragment"
    }
   },
   "source": [
    "🐇🐇🐇🐇🐇🐇🐇🐇🐇🐇 (10) vs. 🐊🐊🐊🐊🐊  (5).\n",
    "\n",
    "**(2)**. За представление я должен вытащить кролика из шляпы пять раз. Какова вероятность, что это-таки будут кролики?\n",
    "\n",
    " **2а)** я каждый раз возвращаю (что бы я ни достал) в шляпу."
   ]
  },
  {
   "cell_type": "markdown",
   "metadata": {
    "slideshow": {
     "slide_type": "fragment"
    }
   },
   "source": [
    "Ну понятно, $\\Omega=$ все комбинации 🐇 и 🐊, пять слотов. Вероятность $\\mathbb{P}(🐇🐇🐇🐇🐇)=1 / 2^5$, около 3%. Так?"
   ]
  },
  {
   "cell_type": "markdown",
   "metadata": {
    "slideshow": {
     "slide_type": "slide"
    }
   },
   "source": [
    "Ну понятно, $\\Omega=$ все комбинации 🐇 и 🐊, пять слотов. Вероятность $\\mathbb{P}(🐇🐇🐇🐇🐇)=1 / 2^5$, около 3%. Так?"
   ]
  },
  {
   "cell_type": "markdown",
   "metadata": {
    "slideshow": {
     "slide_type": "fragment"
    }
   },
   "source": [
    "Интересно, работает?.."
   ]
  },
  {
   "cell_type": "code",
   "execution_count": null,
   "metadata": {
    "slideshow": {
     "slide_type": "fragment"
    }
   },
   "outputs": [],
   "source": [
    "hat = [\"🐇\"]*10 + [\"🐊\"]*5\n",
    "hat"
   ]
  },
  {
   "cell_type": "code",
   "execution_count": null,
   "metadata": {
    "slideshow": {
     "slide_type": "fragment"
    }
   },
   "outputs": [],
   "source": [
    "success = 0\n",
    "N = 500000\n",
    "\n",
    "for i in range(N):\n",
    "    if np.array_equal(np.random.choice(hat, 5, replace=True), \n",
    "                      [\"🐇\"] * 5):\n",
    "        success += 1\n",
    "        \n",
    "print(f\"Расчетная частота: {100 * success / N:.2f}\")"
   ]
  },
  {
   "cell_type": "markdown",
   "metadata": {
    "slideshow": {
     "slide_type": "fragment"
    }
   },
   "source": [
    "?!.."
   ]
  },
  {
   "cell_type": "markdown",
   "metadata": {
    "slideshow": {
     "slide_type": "fragment"
    }
   },
   "source": [
    "- они ж не равновероятны!\n",
    "- $\\Omega=$ все комбинации 🐇 и 🐊... (пять слотов, **ФИО** животного в каждом). Сколько всего вариантов вытащить конкретных животных?"
   ]
  },
  {
   "cell_type": "markdown",
   "metadata": {
    "slideshow": {
     "slide_type": "fragment"
    }
   },
   "source": [
    "$15\\cdot15\\cdot15\\cdot15\\cdot15=15^5=759,375$"
   ]
  },
  {
   "cell_type": "markdown",
   "metadata": {
    "slideshow": {
     "slide_type": "fragment"
    }
   },
   "source": [
    "- Сколько интересных нам (что все это -- кролики)?"
   ]
  },
  {
   "cell_type": "markdown",
   "metadata": {
    "slideshow": {
     "slide_type": "fragment"
    }
   },
   "source": [
    "$10^{5}=100,000$. То есть получится вероятность:"
   ]
  },
  {
   "cell_type": "code",
   "execution_count": null,
   "metadata": {
    "slideshow": {
     "slide_type": "fragment"
    }
   },
   "outputs": [],
   "source": [
    "print(f\"{(10**5 / (15**5))*100:.2f}%\")"
   ]
  },
  {
   "cell_type": "markdown",
   "metadata": {
    "slideshow": {
     "slide_type": "subslide"
    }
   },
   "source": [
    "**2b)** как меняется ответ, если я не буду возвращать животных в шляпу после эксперимента?..\n",
    "\n",
    "*(на подумать...)*"
   ]
  },
  {
   "cell_type": "markdown",
   "metadata": {
    "slideshow": {
     "slide_type": "slide"
    }
   },
   "source": [
    "**Еще задачка.** В ночи перед лекцией, я генерирую случайные русские буквы (неповторяющиеся), по три за раз. Какая вероятность получить буквы `ЗПШ`?"
   ]
  },
  {
   "cell_type": "markdown",
   "metadata": {
    "slideshow": {
     "slide_type": "fragment"
    }
   },
   "source": [
    "Давайте посмотрим: пусть всего будет ..."
   ]
  },
  {
   "cell_type": "code",
   "execution_count": 3,
   "metadata": {
    "slideshow": {
     "slide_type": "fragment"
    }
   },
   "outputs": [
    {
     "name": "stdout",
     "output_type": "stream",
     "text": [
      "...32 буквы\n"
     ]
    }
   ],
   "source": [
    "letters = [l for l in \"АБВГДЕЁЖЗИКЛМНОПРСТУФХЦЧШЩЫЬЪЭЮЯ\"]\n",
    "print(f\"...{len(letters)} буквы\")"
   ]
  },
  {
   "cell_type": "markdown",
   "metadata": {
    "slideshow": {
     "slide_type": "fragment"
    }
   },
   "source": [
    "Значит, по идее, частота этой конкретной комбинации должна получиться один на $32\\cdot 31 \\cdot 30 = $ один на $30,720$, если взять достаточно много испытаний. Попробуем..."
   ]
  },
  {
   "cell_type": "code",
   "execution_count": null,
   "metadata": {
    "slideshow": {
     "slide_type": "fragment"
    }
   },
   "outputs": [],
   "source": [
    "\"\".join(np.random.choice(letters, 3, replace=False))"
   ]
  },
  {
   "cell_type": "code",
   "execution_count": 4,
   "metadata": {
    "scrolled": true,
    "slideshow": {
     "slide_type": "slide"
    }
   },
   "outputs": [
    {
     "data": {
      "application/vnd.jupyter.widget-view+json": {
       "model_id": "a494782bb88f4af5bf0a0e691941a43b",
       "version_major": 2,
       "version_minor": 0
      },
      "text/plain": [
       "  0%|          | 0/5000000 [00:00<?, ?it/s]"
      ]
     },
     "metadata": {},
     "output_type": "display_data"
    },
    {
     "name": "stdout",
     "output_type": "stream",
     "text": [
      "Расчет завершен за 174.4 сек., 160 успешных событий найдено\n"
     ]
    },
    {
     "data": {
      "text/plain": [
       "<matplotlib.lines.Line2D at 0x7f9d439d9390>"
      ]
     },
     "execution_count": 4,
     "metadata": {},
     "output_type": "execute_result"
    },
    {
     "data": {
      "image/png": "[encoded data removed]",
      "text/plain": [
       "<Figure size 1152x648 with 1 Axes>"
      ]
     },
     "metadata": {},
     "output_type": "display_data"
    }
   ],
   "source": [
    "success = 0\n",
    "freqs = []\n",
    "t0 = time()\n",
    "for i in tqdm(range(5000000)):\n",
    "    if \"\".join(np.random.choice(letters, 3, replace=False)) == \"ЗПШ\":\n",
    "        success += 1\n",
    "    \n",
    "    if i % 20000 == 0:\n",
    "        freqs.append(success*1e4 / (i+1))\n",
    "\n",
    "t1 = time()\n",
    "print(f\"Расчет завершен за {t1-t0:.1f} сек., {success} успешных событий найдено\")\n",
    "\n",
    "fig, ax = plt.subplots(figsize=(16,9))\n",
    "sns.lineplot([x for x in range(len(freqs))], freqs)\n",
    "ax.axhline(10000/30720, color='red', ls='dotted')\n"
   ]
  },
  {
   "cell_type": "markdown",
   "metadata": {
    "slideshow": {
     "slide_type": "slide"
    }
   },
   "source": [
    "## Еще пример: художественный текст.\n",
    "Даже (казалось бы, простые) модели с равновероятными исходами могут быть удивительно полезными. Посмотрим:"
   ]
  },
  {
   "cell_type": "code",
   "execution_count": null,
   "metadata": {
    "slideshow": {
     "slide_type": "fragment"
    }
   },
   "outputs": [],
   "source": [
    "with open(\"./w_and_p.txt\", \"r\") as file:\n",
    "    text = file.read()"
   ]
  },
  {
   "cell_type": "code",
   "execution_count": null,
   "metadata": {
    "slideshow": {
     "slide_type": "fragment"
    }
   },
   "outputs": [],
   "source": [
    "text = text.lower()\n",
    "text[:800]"
   ]
  },
  {
   "cell_type": "code",
   "execution_count": null,
   "metadata": {
    "slideshow": {
     "slide_type": "subslide"
    }
   },
   "outputs": [],
   "source": [
    "# freqs = dict()\n",
    "o_freq = []\n",
    "r_freq = []\n",
    "t_freq = []\n",
    "freqs = dict()\n",
    "\n",
    "for i, c in enumerate(text):\n",
    "    if c not in freqs.keys():\n",
    "        freqs[c] = 1\n",
    "    else:\n",
    "        freqs[c] += 1\n",
    "        \n",
    "    if i % 1000 == 0 and 'о' in freqs.keys():\n",
    "        o_freq.append(freqs['о'] / i)\n",
    "        r_freq.append(freqs['р'] / i)\n",
    "        t_freq.append(freqs['т'] / i)\n",
    "        \n",
    "o_freq.append(freqs['о'] / i)\n",
    "r_freq.append(freqs['р'] / i)\n",
    "t_freq.append(freqs['т'] / i)\n",
    "\n",
    "freqs = {c: num/i for c,num in freqs.items() }\n",
    "print(f\"Обработано {i} символов\")"
   ]
  },
  {
   "cell_type": "code",
   "execution_count": null,
   "metadata": {
    "slideshow": {
     "slide_type": "subslide"
    }
   },
   "outputs": [],
   "source": [
    "fig, ax = plt.subplots(figsize=(16,9))\n",
    "sns.lineplot([x for x in range(len(o_freq))], o_freq, label=\"O\")\n",
    "sns.lineplot([x for x in range(len(o_freq))], r_freq, label=\"P\")\n",
    "sns.lineplot([x for x in range(len(o_freq))], t_freq, label=\"T\")\n",
    "\n",
    "ax.axhline(o_freq[-1], color='red', ls='dotted')\n",
    "ax.axhline(r_freq[-1], color='red', ls='dotted')\n",
    "ax.axhline(t_freq[-1], color='red', ls='dotted')"
   ]
  },
  {
   "cell_type": "code",
   "execution_count": null,
   "metadata": {
    "slideshow": {
     "slide_type": "subslide"
    }
   },
   "outputs": [],
   "source": [
    "sorted(freqs.items(), key=lambda x: x[1], reverse=True)[:10]"
   ]
  },
  {
   "cell_type": "markdown",
   "metadata": {
    "slideshow": {
     "slide_type": "fragment"
    }
   },
   "source": [
    "(ср. с [\"Частотностью\"](https://ru.wikipedia.org/wiki/%D0%A7%D0%B0%D1%81%D1%82%D0%BE%D1%82%D0%BD%D0%BE%D1%81%D1%82%D1%8C) в Wiki. Но это другая история, см. тж. [Теория кодирования](https://ru.wikipedia.org/wiki/%D0%A2%D0%B5%D0%BE%D1%80%D0%B8%D1%8F_%D0%BA%D0%BE%D0%B4%D0%B8%D1%80%D0%BE%D0%B2%D0%B0%D0%BD%D0%B8%D1%8F) и [\"Криптография\"](https://ru.wikipedia.org/wiki/%D0%9A%D1%80%D0%B8%D0%BF%D1%82%D0%BE%D0%B3%D1%80%D0%B0%D1%84%D0%B8%D1%8F)...). "
   ]
  },
  {
   "cell_type": "markdown",
   "metadata": {
    "slideshow": {
     "slide_type": "slide"
    }
   },
   "source": [
    "## В следующий раз:\n",
    "- крокодилы и кролики, revised\n",
    "- зависимые и независимые события\n",
    "- условная вероятность\n",
    "- тест на COVID как случайная величина, характеристики тестов.\n",
    "\n",
    "**DISCORD ЗПШ:** `#05-2-z1-как-устроены-случайности`"
   ]
  }
 ],
 "metadata": {
  "celltoolbar": "Slideshow",
  "kernelspec": {
   "display_name": "Python 3",
   "language": "python",
   "name": "python3"
  },
  "language_info": {
   "codemirror_mode": {
    "name": "ipython",
    "version": 3
   },
   "file_extension": ".py",
   "mimetype": "text/x-python",
   "name": "python",
   "nbconvert_exporter": "python",
   "pygments_lexer": "ipython3",
   "version": "3.7.6"
  },
  "latex_envs": {
   "LaTeX_envs_menu_present": true,
   "autoclose": false,
   "autocomplete": true,
   "bibliofile": "biblio.bib",
   "cite_by": "apalike",
   "current_citInitial": 1,
   "eqLabelWithNumbers": true,
   "eqNumInitial": 1,
   "hotkeys": {
    "equation": "Ctrl-E",
    "itemize": "Ctrl-I"
   },
   "labels_anchors": false,
   "latex_user_defs": false,
   "report_style_numbering": false,
   "user_envs_cfg": false
  },
  "name": "1_probability.ipynb",
  "toc": {
   "base_numbering": 1,
   "nav_menu": {
    "height": "229.767px",
    "width": "331px"
   },
   "number_sections": false,
   "sideBar": true,
   "skip_h1_title": false,
   "title_cell": "Table of Contents",
   "title_sidebar": "Contents",
   "toc_cell": false,
   "toc_position": {},
   "toc_section_display": true,
   "toc_window_display": false
  }
 },
 "nbformat": 4,
 "nbformat_minor": 4
}
